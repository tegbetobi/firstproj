{
 "cells": [
  {
   "cell_type": "code",
   "execution_count": 1,
   "id": "1828bb87-ac1d-49b9-a7c5-48b0c9c3f66d",
   "metadata": {},
   "outputs": [],
   "source": [
    "import pandas as pd\n",
    "import numpy as np"
   ]
  },
  {
   "cell_type": "code",
   "execution_count": 5,
   "id": "55f3535e-7c8a-429c-829e-10d17e9d951d",
   "metadata": {},
   "outputs": [
    {
     "data": {
      "text/html": [
       "<div>\n",
       "<style scoped>\n",
       "    .dataframe tbody tr th:only-of-type {\n",
       "        vertical-align: middle;\n",
       "    }\n",
       "\n",
       "    .dataframe tbody tr th {\n",
       "        vertical-align: top;\n",
       "    }\n",
       "\n",
       "    .dataframe thead th {\n",
       "        text-align: right;\n",
       "    }\n",
       "</style>\n",
       "<table border=\"1\" class=\"dataframe\">\n",
       "  <thead>\n",
       "    <tr style=\"text-align: right;\">\n",
       "      <th></th>\n",
       "      <th>Unnamed: 0</th>\n",
       "      <th>NBA_ID</th>\n",
       "      <th>LAST_NAME</th>\n",
       "      <th>FIRST_NAME</th>\n",
       "      <th>FULL_NAME</th>\n",
       "      <th>IS_ACTIVE</th>\n",
       "      <th>IMAGE_URL</th>\n",
       "      <th>OVERALLATTRIBUTE</th>\n",
       "      <th>CLOSESHOT</th>\n",
       "      <th>MIDRANGESHOT</th>\n",
       "      <th>...</th>\n",
       "      <th>JERSEY_NUM</th>\n",
       "      <th>POSITION</th>\n",
       "      <th>COUNTRY</th>\n",
       "      <th>AGE</th>\n",
       "      <th>BD_YEAR</th>\n",
       "      <th>BD_MONTH</th>\n",
       "      <th>BD_DAY</th>\n",
       "      <th>EXPERIENCE</th>\n",
       "      <th>POSITION_CODE</th>\n",
       "      <th>COUNTRY_CODE</th>\n",
       "    </tr>\n",
       "  </thead>\n",
       "  <tbody>\n",
       "    <tr>\n",
       "      <th>0</th>\n",
       "      <td>0</td>\n",
       "      <td>1630173</td>\n",
       "      <td>Achiuwa</td>\n",
       "      <td>Precious</td>\n",
       "      <td>Precious Achiuwa</td>\n",
       "      <td>True</td>\n",
       "      <td>https://cdn.nba.com/headshots/nba/latest/1040x...</td>\n",
       "      <td>76</td>\n",
       "      <td>83</td>\n",
       "      <td>64</td>\n",
       "      <td>...</td>\n",
       "      <td>#5</td>\n",
       "      <td>Forward</td>\n",
       "      <td>Nigeria</td>\n",
       "      <td>24y</td>\n",
       "      <td>1999</td>\n",
       "      <td>SEPTEMBER</td>\n",
       "      <td>19</td>\n",
       "      <td>3</td>\n",
       "      <td>SF/PF</td>\n",
       "      <td>NG</td>\n",
       "    </tr>\n",
       "    <tr>\n",
       "      <th>1</th>\n",
       "      <td>1</td>\n",
       "      <td>203500</td>\n",
       "      <td>Adams</td>\n",
       "      <td>Steven</td>\n",
       "      <td>Steven Adams</td>\n",
       "      <td>True</td>\n",
       "      <td>https://cdn.nba.com/headshots/nba/latest/1040x...</td>\n",
       "      <td>80</td>\n",
       "      <td>94</td>\n",
       "      <td>65</td>\n",
       "      <td>...</td>\n",
       "      <td>#4</td>\n",
       "      <td>Center</td>\n",
       "      <td>New Zealand</td>\n",
       "      <td>30y</td>\n",
       "      <td>1993</td>\n",
       "      <td>JULY</td>\n",
       "      <td>20</td>\n",
       "      <td>10</td>\n",
       "      <td>CE/PF</td>\n",
       "      <td>NZ</td>\n",
       "    </tr>\n",
       "    <tr>\n",
       "      <th>2</th>\n",
       "      <td>2</td>\n",
       "      <td>1628389</td>\n",
       "      <td>Adebayo</td>\n",
       "      <td>Bam</td>\n",
       "      <td>Bam Adebayo</td>\n",
       "      <td>True</td>\n",
       "      <td>https://cdn.nba.com/headshots/nba/latest/1040x...</td>\n",
       "      <td>88</td>\n",
       "      <td>94</td>\n",
       "      <td>82</td>\n",
       "      <td>...</td>\n",
       "      <td>#13</td>\n",
       "      <td>Center-Forward</td>\n",
       "      <td>USA</td>\n",
       "      <td>26y</td>\n",
       "      <td>1997</td>\n",
       "      <td>JULY</td>\n",
       "      <td>18</td>\n",
       "      <td>6</td>\n",
       "      <td>CE/PF</td>\n",
       "      <td>US</td>\n",
       "    </tr>\n",
       "    <tr>\n",
       "      <th>3</th>\n",
       "      <td>3</td>\n",
       "      <td>1630534</td>\n",
       "      <td>Agbaji</td>\n",
       "      <td>Ochai</td>\n",
       "      <td>Ochai Agbaji</td>\n",
       "      <td>True</td>\n",
       "      <td>https://cdn.nba.com/headshots/nba/latest/1040x...</td>\n",
       "      <td>74</td>\n",
       "      <td>81</td>\n",
       "      <td>72</td>\n",
       "      <td>...</td>\n",
       "      <td>#30</td>\n",
       "      <td>Guard</td>\n",
       "      <td>USA</td>\n",
       "      <td>23y</td>\n",
       "      <td>2000</td>\n",
       "      <td>APRIL</td>\n",
       "      <td>20</td>\n",
       "      <td>1</td>\n",
       "      <td>PG/SG</td>\n",
       "      <td>US</td>\n",
       "    </tr>\n",
       "    <tr>\n",
       "      <th>4</th>\n",
       "      <td>4</td>\n",
       "      <td>1630583</td>\n",
       "      <td>Aldama</td>\n",
       "      <td>Santi</td>\n",
       "      <td>Santi Aldama</td>\n",
       "      <td>True</td>\n",
       "      <td>https://cdn.nba.com/headshots/nba/latest/1040x...</td>\n",
       "      <td>77</td>\n",
       "      <td>81</td>\n",
       "      <td>74</td>\n",
       "      <td>...</td>\n",
       "      <td>#7</td>\n",
       "      <td>Forward-Center</td>\n",
       "      <td>Spain</td>\n",
       "      <td>23y</td>\n",
       "      <td>2001</td>\n",
       "      <td>JANUARY</td>\n",
       "      <td>10</td>\n",
       "      <td>2</td>\n",
       "      <td>PF/CE</td>\n",
       "      <td>ES</td>\n",
       "    </tr>\n",
       "  </tbody>\n",
       "</table>\n",
       "<p>5 rows × 55 columns</p>\n",
       "</div>"
      ],
      "text/plain": [
       "   Unnamed: 0   NBA_ID LAST_NAME FIRST_NAME         FULL_NAME  IS_ACTIVE  \\\n",
       "0           0  1630173   Achiuwa   Precious  Precious Achiuwa       True   \n",
       "1           1   203500     Adams     Steven      Steven Adams       True   \n",
       "2           2  1628389   Adebayo        Bam       Bam Adebayo       True   \n",
       "3           3  1630534    Agbaji      Ochai      Ochai Agbaji       True   \n",
       "4           4  1630583    Aldama      Santi      Santi Aldama       True   \n",
       "\n",
       "                                           IMAGE_URL  OVERALLATTRIBUTE  \\\n",
       "0  https://cdn.nba.com/headshots/nba/latest/1040x...                76   \n",
       "1  https://cdn.nba.com/headshots/nba/latest/1040x...                80   \n",
       "2  https://cdn.nba.com/headshots/nba/latest/1040x...                88   \n",
       "3  https://cdn.nba.com/headshots/nba/latest/1040x...                74   \n",
       "4  https://cdn.nba.com/headshots/nba/latest/1040x...                77   \n",
       "\n",
       "   CLOSESHOT  MIDRANGESHOT  ...  JERSEY_NUM        POSITION      COUNTRY  AGE  \\\n",
       "0         83            64  ...          #5         Forward      Nigeria  24y   \n",
       "1         94            65  ...          #4          Center  New Zealand  30y   \n",
       "2         94            82  ...         #13  Center-Forward          USA  26y   \n",
       "3         81            72  ...         #30           Guard          USA  23y   \n",
       "4         81            74  ...          #7  Forward-Center        Spain  23y   \n",
       "\n",
       "   BD_YEAR   BD_MONTH  BD_DAY  EXPERIENCE  POSITION_CODE  COUNTRY_CODE  \n",
       "0     1999  SEPTEMBER      19           3          SF/PF            NG  \n",
       "1     1993       JULY      20          10          CE/PF            NZ  \n",
       "2     1997       JULY      18           6          CE/PF            US  \n",
       "3     2000      APRIL      20           1          PG/SG            US  \n",
       "4     2001    JANUARY      10           2          PF/CE            ES  \n",
       "\n",
       "[5 rows x 55 columns]"
      ]
     },
     "execution_count": 5,
     "metadata": {},
     "output_type": "execute_result"
    }
   ],
   "source": [
    "lst = pd.read_csv(\"players.csv\")\n",
    "lst.head()"
   ]
  },
  {
   "cell_type": "code",
   "execution_count": 7,
   "id": "ec35fc6b-9a73-4cfb-8574-623fe0bec73e",
   "metadata": {},
   "outputs": [
    {
     "name": "stdout",
     "output_type": "stream",
     "text": [
      "[[2 5 6 8]\n",
      " [2 4 6 5]]\n"
     ]
    }
   ],
   "source": [
    "a = np.array([[2,5,6,8], [2,4,6,5]])\n",
    "print(a)"
   ]
  },
  {
   "cell_type": "code",
   "execution_count": 8,
   "id": "21d79d1d-bc40-4061-a42f-3230f9849434",
   "metadata": {},
   "outputs": [
    {
     "name": "stdout",
     "output_type": "stream",
     "text": [
      "[2 5 8 4]\n"
     ]
    }
   ],
   "source": [
    "b = np.array([2,5,8,4])\n",
    "print(b)"
   ]
  },
  {
   "cell_type": "code",
   "execution_count": 12,
   "id": "edb754e4-0c2d-4f85-afc7-9a42b975d0ce",
   "metadata": {},
   "outputs": [
    {
     "data": {
      "text/plain": [
       "(4,)"
      ]
     },
     "execution_count": 12,
     "metadata": {},
     "output_type": "execute_result"
    }
   ],
   "source": [
    "b.shape"
   ]
  },
  {
   "cell_type": "code",
   "execution_count": 13,
   "id": "be13822d-3dc2-46bf-9e20-79b550e61497",
   "metadata": {},
   "outputs": [
    {
     "data": {
      "text/plain": [
       "(2, 4)"
      ]
     },
     "execution_count": 13,
     "metadata": {},
     "output_type": "execute_result"
    }
   ],
   "source": [
    "a.shape"
   ]
  },
  {
   "cell_type": "code",
   "execution_count": 14,
   "id": "15f9a4c3-e052-42f4-851a-d1cfbe0cad70",
   "metadata": {},
   "outputs": [
    {
     "data": {
      "text/plain": [
       "2"
      ]
     },
     "execution_count": 14,
     "metadata": {},
     "output_type": "execute_result"
    }
   ],
   "source": [
    "a.ndim"
   ]
  },
  {
   "cell_type": "code",
   "execution_count": 15,
   "id": "f6bd91cb-6cea-41c1-8700-d914582b598b",
   "metadata": {},
   "outputs": [
    {
     "data": {
      "text/plain": [
       "1"
      ]
     },
     "execution_count": 15,
     "metadata": {},
     "output_type": "execute_result"
    }
   ],
   "source": [
    "b.ndim"
   ]
  },
  {
   "cell_type": "code",
   "execution_count": 18,
   "id": "e38fe8de-abf4-45a4-8c0b-d0d3bc9f8f4c",
   "metadata": {},
   "outputs": [
    {
     "data": {
      "text/plain": [
       "4"
      ]
     },
     "execution_count": 18,
     "metadata": {},
     "output_type": "execute_result"
    }
   ],
   "source": [
    "a.itemsize"
   ]
  },
  {
   "cell_type": "code",
   "execution_count": 19,
   "id": "b8f2aa78-3c61-44d7-b993-3bc1e7d82e8c",
   "metadata": {},
   "outputs": [
    {
     "data": {
      "text/plain": [
       "32"
      ]
     },
     "execution_count": 19,
     "metadata": {},
     "output_type": "execute_result"
    }
   ],
   "source": [
    "a.nbytes"
   ]
  },
  {
   "cell_type": "code",
   "execution_count": 20,
   "id": "085e65ff-e7d6-45fd-8d8f-32a57d9e4d90",
   "metadata": {},
   "outputs": [
    {
     "name": "stdout",
     "output_type": "stream",
     "text": [
      "[[2 5 6 8]\n",
      " [2 4 6 5]]\n",
      "[2 5 8 4]\n"
     ]
    }
   ],
   "source": [
    "print(a)\n",
    "print(b)"
   ]
  },
  {
   "cell_type": "code",
   "execution_count": 26,
   "id": "7af7c8a2-7ef4-4cab-afc1-1bd4c81609b3",
   "metadata": {},
   "outputs": [
    {
     "name": "stdout",
     "output_type": "stream",
     "text": [
      "[[ 1  2  3  4  6  7  8]\n",
      " [ 2  5  6  7  3 12  6]\n",
      " [23  4  1  5  1  4 56]]\n"
     ]
    }
   ],
   "source": [
    "a = np.array([[1,2,3,4,6,7,8], [2,5,6,7,3,12,6], [23,4,1,5,1,4,56]])\n",
    "print(a)"
   ]
  },
  {
   "cell_type": "code",
   "execution_count": 27,
   "id": "591ee453-53e1-45be-95a1-15e44a6e9e51",
   "metadata": {},
   "outputs": [
    {
     "data": {
      "text/plain": [
       "(3, 7)"
      ]
     },
     "execution_count": 27,
     "metadata": {},
     "output_type": "execute_result"
    }
   ],
   "source": [
    "a.shape"
   ]
  },
  {
   "cell_type": "code",
   "execution_count": 30,
   "id": "1d8867a0-0153-41ad-9187-08412cbf883d",
   "metadata": {},
   "outputs": [
    {
     "data": {
      "text/plain": [
       "4"
      ]
     },
     "execution_count": 30,
     "metadata": {},
     "output_type": "execute_result"
    }
   ],
   "source": [
    "a.itemsize"
   ]
  },
  {
   "cell_type": "code",
   "execution_count": 31,
   "id": "8dadd0e2-9868-4007-9152-84fef1ac566b",
   "metadata": {},
   "outputs": [
    {
     "data": {
      "text/plain": [
       "2"
      ]
     },
     "execution_count": 31,
     "metadata": {},
     "output_type": "execute_result"
    }
   ],
   "source": [
    "a.ndim"
   ]
  },
  {
   "cell_type": "code",
   "execution_count": 33,
   "id": "4cf5b212-1320-45c9-96d9-f9d93d6bc9ba",
   "metadata": {},
   "outputs": [
    {
     "data": {
      "text/plain": [
       "4"
      ]
     },
     "execution_count": 33,
     "metadata": {},
     "output_type": "execute_result"
    }
   ],
   "source": [
    "a[0,3]"
   ]
  },
  {
   "cell_type": "code",
   "execution_count": 36,
   "id": "86682095-72fe-4f8a-808b-76df9b879f1e",
   "metadata": {},
   "outputs": [
    {
     "data": {
      "text/plain": [
       "array([1, 2, 3, 4, 6, 7, 8])"
      ]
     },
     "execution_count": 36,
     "metadata": {},
     "output_type": "execute_result"
    }
   ],
   "source": [
    "a[0,:]"
   ]
  },
  {
   "cell_type": "code",
   "execution_count": 37,
   "id": "c05d4d1c-b8a4-447c-989c-0003fbbc3f08",
   "metadata": {},
   "outputs": [
    {
     "name": "stdout",
     "output_type": "stream",
     "text": [
      "[[ 1  2  3  4  6  7  8]\n",
      " [ 2  5  6  7  3 12  6]\n",
      " [23  4  1  5  1  4 56]]\n"
     ]
    }
   ],
   "source": [
    "print(a)"
   ]
  },
  {
   "cell_type": "code",
   "execution_count": 47,
   "id": "976f72e4-9ae5-4618-ad84-caa8a8eff7ab",
   "metadata": {},
   "outputs": [
    {
     "data": {
      "text/plain": [
       "array([ 5,  7, 12])"
      ]
     },
     "execution_count": 47,
     "metadata": {},
     "output_type": "execute_result"
    }
   ],
   "source": [
    "a[1, 1:6:2]"
   ]
  },
  {
   "cell_type": "code",
   "execution_count": 50,
   "id": "93302643-a50c-422a-9d35-5f953e0b4f48",
   "metadata": {},
   "outputs": [
    {
     "data": {
      "text/plain": [
       "array([[0., 0.],\n",
       "       [0., 0.],\n",
       "       [0., 0.],\n",
       "       [0., 0.],\n",
       "       [0., 0.],\n",
       "       [0., 0.]])"
      ]
     },
     "execution_count": 50,
     "metadata": {},
     "output_type": "execute_result"
    }
   ],
   "source": [
    "np.zeros((6,2))"
   ]
  },
  {
   "cell_type": "code",
   "execution_count": 51,
   "id": "0401798f-bd63-4ed2-8b2a-aec1d35ed21d",
   "metadata": {},
   "outputs": [
    {
     "data": {
      "text/plain": [
       "array([[1, 1],\n",
       "       [1, 1],\n",
       "       [1, 1],\n",
       "       [1, 1]])"
      ]
     },
     "execution_count": 51,
     "metadata": {},
     "output_type": "execute_result"
    }
   ],
   "source": [
    "np.ones((4,2), dtype='int32')"
   ]
  },
  {
   "cell_type": "code",
   "execution_count": 52,
   "id": "cae731de-f30d-41e4-adde-a85310aed2a0",
   "metadata": {},
   "outputs": [
    {
     "data": {
      "text/plain": [
       "array([[8, 8, 8],\n",
       "       [8, 8, 8],\n",
       "       [8, 8, 8]])"
      ]
     },
     "execution_count": 52,
     "metadata": {},
     "output_type": "execute_result"
    }
   ],
   "source": [
    "np.full((3,3), 8)"
   ]
  },
  {
   "cell_type": "code",
   "execution_count": 53,
   "id": "9240980c-0165-452f-8d04-5c51992e1661",
   "metadata": {},
   "outputs": [
    {
     "data": {
      "text/plain": [
       "(3, 7)"
      ]
     },
     "execution_count": 53,
     "metadata": {},
     "output_type": "execute_result"
    }
   ],
   "source": [
    "a.shape"
   ]
  },
  {
   "cell_type": "code",
   "execution_count": 54,
   "id": "c7e9493f-0963-4259-987a-8052a7835d13",
   "metadata": {},
   "outputs": [
    {
     "data": {
      "text/plain": [
       "array([[3, 3, 3, 3, 3, 3, 3],\n",
       "       [3, 3, 3, 3, 3, 3, 3],\n",
       "       [3, 3, 3, 3, 3, 3, 3]])"
      ]
     },
     "execution_count": 54,
     "metadata": {},
     "output_type": "execute_result"
    }
   ],
   "source": [
    "np.full(a.shape,3)"
   ]
  },
  {
   "cell_type": "code",
   "execution_count": 58,
   "id": "1f6c1779-36fa-4804-812e-a93fc8a19286",
   "metadata": {},
   "outputs": [
    {
     "data": {
      "text/plain": [
       "array([[0.99529689, 0.23529287, 0.24449378],\n",
       "       [0.02183462, 0.62130812, 0.86046548]])"
      ]
     },
     "execution_count": 58,
     "metadata": {},
     "output_type": "execute_result"
    }
   ],
   "source": [
    "np.random.rand(2,3)"
   ]
  },
  {
   "cell_type": "code",
   "execution_count": 59,
   "id": "d0f94ff5-9fc8-4760-936a-f3b4172012e8",
   "metadata": {},
   "outputs": [
    {
     "data": {
      "text/plain": [
       "array([[3, 4, 5],\n",
       "       [1, 2, 3],\n",
       "       [5, 4, 0]])"
      ]
     },
     "execution_count": 59,
     "metadata": {},
     "output_type": "execute_result"
    }
   ],
   "source": [
    "np.random.randint(6, size=(3,3))"
   ]
  },
  {
   "cell_type": "code",
   "execution_count": 60,
   "id": "9f6f8aee-ce69-46c2-b93d-13b902e90bdf",
   "metadata": {},
   "outputs": [
    {
     "data": {
      "text/plain": [
       "array([[1., 0., 0., 0.],\n",
       "       [0., 1., 0., 0.],\n",
       "       [0., 0., 1., 0.],\n",
       "       [0., 0., 0., 1.]])"
      ]
     },
     "execution_count": 60,
     "metadata": {},
     "output_type": "execute_result"
    }
   ],
   "source": [
    "np.identity(4)"
   ]
  },
  {
   "cell_type": "code",
   "execution_count": 70,
   "id": "a9595de2-0362-4de3-a6c9-a02b43efe231",
   "metadata": {},
   "outputs": [
    {
     "name": "stdout",
     "output_type": "stream",
     "text": [
      "[[1. 1. 1. 1. 1.]\n",
      " [1. 1. 1. 1. 1.]\n",
      " [1. 1. 1. 1. 1.]\n",
      " [1. 1. 1. 1. 1.]\n",
      " [1. 1. 1. 1. 1.]]\n"
     ]
    }
   ],
   "source": [
    "first = np.ones((5,5))\n",
    "print (first)"
   ]
  },
  {
   "cell_type": "code",
   "execution_count": 73,
   "id": "6734103b-1c5a-404f-be90-14ae5c8c17ee",
   "metadata": {},
   "outputs": [
    {
     "name": "stdout",
     "output_type": "stream",
     "text": [
      "[[0. 0. 0.]\n",
      " [0. 0. 0.]\n",
      " [0. 0. 0.]]\n"
     ]
    }
   ],
   "source": [
    "second = np.zeros((3,3))\n",
    "print(second)"
   ]
  },
  {
   "cell_type": "code",
   "execution_count": 84,
   "id": "e78a5d37-4ad6-4a7d-91c2-460f9ed751a9",
   "metadata": {},
   "outputs": [
    {
     "name": "stdout",
     "output_type": "stream",
     "text": [
      "[[0. 9. 0.]\n",
      " [0. 9. 0.]\n",
      " [0. 9. 0.]]\n"
     ]
    }
   ],
   "source": [
    "second[1,1] = 9\n",
    "print(second)"
   ]
  },
  {
   "cell_type": "code",
   "execution_count": 87,
   "id": "b04e7ad7-d95f-4434-8af6-3aa1c9c271fb",
   "metadata": {},
   "outputs": [
    {
     "name": "stdout",
     "output_type": "stream",
     "text": [
      "[[1. 1. 1. 1. 1.]\n",
      " [1. 0. 9. 0. 1.]\n",
      " [1. 0. 9. 0. 1.]\n",
      " [1. 0. 9. 0. 1.]\n",
      " [1. 1. 1. 1. 1.]]\n"
     ]
    }
   ],
   "source": [
    "first[1:4, 1:4] = second\n",
    "print(first)"
   ]
  },
  {
   "cell_type": "code",
   "execution_count": 89,
   "id": "da955408-7945-42a5-9977-9822ad90daaa",
   "metadata": {},
   "outputs": [
    {
     "data": {
      "text/plain": [
       "array([[3, 3, 3, 3],\n",
       "       [3, 3, 3, 3],\n",
       "       [3, 3, 3, 3]])"
      ]
     },
     "execution_count": 89,
     "metadata": {},
     "output_type": "execute_result"
    }
   ],
   "source": [
    "np.full((3,4), 3)"
   ]
  },
  {
   "cell_type": "code",
   "execution_count": 96,
   "id": "64dd662e-e481-43ea-9cc1-7789da013d69",
   "metadata": {},
   "outputs": [
    {
     "name": "stdout",
     "output_type": "stream",
     "text": [
      "[[2 0 2 3]\n",
      " [0 1 0 2]\n",
      " [1 2 3 1]]\n",
      "[[0 1 1]\n",
      " [4 4 0]\n",
      " [2 3 0]\n",
      " [1 0 1]]\n"
     ]
    }
   ],
   "source": [
    "a = np.random.randint(4, size=(3,4))\n",
    "b = np.random.randint(5, size=(4,3))\n",
    "print(a)\n",
    "print(b)"
   ]
  },
  {
   "cell_type": "code",
   "execution_count": 97,
   "id": "f01d7af9-4ac2-42b2-8f24-e51fa36b2b45",
   "metadata": {},
   "outputs": [
    {
     "data": {
      "text/plain": [
       "array([[ 7,  8,  5],\n",
       "       [ 6,  4,  2],\n",
       "       [15, 18,  2]])"
      ]
     },
     "execution_count": 97,
     "metadata": {},
     "output_type": "execute_result"
    }
   ],
   "source": [
    "np.matmul(a,b)"
   ]
  },
  {
   "cell_type": "code",
   "execution_count": null,
   "id": "55352a97-7efe-404c-8c74-30bcc1ac8f90",
   "metadata": {},
   "outputs": [],
   "source": [
    "-"
   ]
  }
 ],
 "metadata": {
  "kernelspec": {
   "display_name": "Python 3 (ipykernel)",
   "language": "python",
   "name": "python3"
  },
  "language_info": {
   "codemirror_mode": {
    "name": "ipython",
    "version": 3
   },
   "file_extension": ".py",
   "mimetype": "text/x-python",
   "name": "python",
   "nbconvert_exporter": "python",
   "pygments_lexer": "ipython3",
   "version": "3.11.7"
  }
 },
 "nbformat": 4,
 "nbformat_minor": 5
}
